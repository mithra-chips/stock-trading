{
 "cells": [
  {
   "cell_type": "markdown",
   "id": "a3a4dcd9",
   "metadata": {},
   "source": [
    "## 2025/8/13\n",
    "\n",
    "最近是快速积累原始资本的两年，**目标：好股好趋势+交易员策略。**"
   ]
  }
 ],
 "metadata": {
  "language_info": {
   "name": "python"
  }
 },
 "nbformat": 4,
 "nbformat_minor": 5
}
