{
 "cells": [
  {
   "cell_type": "markdown",
   "id": "d70a90b9",
   "metadata": {},
   "source": [
    "## 2025/8/27\n",
    "回溯一下Metaplanet Inc. 20th Series of Stock Acquisition Rights \n",
    "- [0801](https://contents.xj-storage.jp/xcontents/33500/a23a4a7a/4c79/4d6c/86f1/331576f197ed/140120250731526689.pdf)\n",
    "- [0812](https://contents.xj-storage.jp/xcontents/33500/c3d73458/5b95/456c/90bd/daabbb107c4a/140120250810538595.pdf)\n",
    "- [0827](https://contents.xj-storage.jp/xcontents/33500/2a1c55dc/aa32/401b/8c3b/54f9295428d8/140120250826547748.pdf)\n"
   ]
  },
  {
   "cell_type": "code",
   "execution_count": 6,
   "id": "531b0bb7",
   "metadata": {},
   "outputs": [
    {
     "data": {
      "application/vnd.microsoft.datawrangler.viewer.v0+json": {
       "columns": [
        {
         "name": "index",
         "rawType": "int64",
         "type": "integer"
        },
        {
         "name": "Exercise Date",
         "rawType": "datetime64[ns]",
         "type": "datetime"
        },
        {
         "name": "Exercised Units",
         "rawType": "int64",
         "type": "integer"
        },
        {
         "name": "Exercise Price(JPY/Share)",
         "rawType": "int64",
         "type": "integer"
        },
        {
         "name": "Date Label",
         "rawType": "object",
         "type": "string"
        }
       ],
       "ref": "979aaeb6-1340-451a-a878-1070b96378c3",
       "rows": [
        [
         "0",
         "2025-07-02 00:00:00",
         "50000",
         "1572",
         "07-02"
        ],
        [
         "1",
         "2025-07-04 00:00:00",
         "31000",
         "1572",
         "07-04"
        ],
        [
         "2",
         "2025-07-10 00:00:00",
         "90000",
         "1551",
         "07-10"
        ],
        [
         "3",
         "2025-07-12 00:00:00",
         "90000",
         "1551",
         "07-12"
        ],
        [
         "4",
         "2025-07-24 00:00:00",
         "54000",
         "1238",
         "07-24"
        ],
        [
         "5",
         "2025-07-28 00:00:00",
         "20000",
         "1238",
         "07-28"
        ],
        [
         "6",
         "2025-07-31 00:00:00",
         "30000",
         "1215",
         "07-31"
        ],
        [
         "7",
         "2025-08-07 00:00:00",
         "13000",
         "992",
         "08-07"
        ],
        [
         "8",
         "2025-08-08 00:00:00",
         "80000",
         "992",
         "08-08"
        ],
        [
         "9",
         "2025-08-14 00:00:00",
         "49000",
         "966",
         "08-14"
        ],
        [
         "10",
         "2025-08-20 00:00:00",
         "49000",
         "884",
         "08-20"
        ],
        [
         "11",
         "2025-08-25 00:00:00",
         "67000",
         "834",
         "08-25"
        ],
        [
         "12",
         "2025-08-26 00:00:00",
         "110000",
         "834",
         "08-26"
        ]
       ],
       "shape": {
        "columns": 4,
        "rows": 13
       }
      },
      "text/html": [
       "<div>\n",
       "<style scoped>\n",
       "    .dataframe tbody tr th:only-of-type {\n",
       "        vertical-align: middle;\n",
       "    }\n",
       "\n",
       "    .dataframe tbody tr th {\n",
       "        vertical-align: top;\n",
       "    }\n",
       "\n",
       "    .dataframe thead th {\n",
       "        text-align: right;\n",
       "    }\n",
       "</style>\n",
       "<table border=\"1\" class=\"dataframe\">\n",
       "  <thead>\n",
       "    <tr style=\"text-align: right;\">\n",
       "      <th></th>\n",
       "      <th>Exercise Date</th>\n",
       "      <th>Exercised Units</th>\n",
       "      <th>Exercise Price(JPY/Share)</th>\n",
       "      <th>Date Label</th>\n",
       "    </tr>\n",
       "  </thead>\n",
       "  <tbody>\n",
       "    <tr>\n",
       "      <th>0</th>\n",
       "      <td>2025-07-02</td>\n",
       "      <td>50000</td>\n",
       "      <td>1572</td>\n",
       "      <td>07-02</td>\n",
       "    </tr>\n",
       "    <tr>\n",
       "      <th>1</th>\n",
       "      <td>2025-07-04</td>\n",
       "      <td>31000</td>\n",
       "      <td>1572</td>\n",
       "      <td>07-04</td>\n",
       "    </tr>\n",
       "    <tr>\n",
       "      <th>2</th>\n",
       "      <td>2025-07-10</td>\n",
       "      <td>90000</td>\n",
       "      <td>1551</td>\n",
       "      <td>07-10</td>\n",
       "    </tr>\n",
       "    <tr>\n",
       "      <th>3</th>\n",
       "      <td>2025-07-12</td>\n",
       "      <td>90000</td>\n",
       "      <td>1551</td>\n",
       "      <td>07-12</td>\n",
       "    </tr>\n",
       "    <tr>\n",
       "      <th>4</th>\n",
       "      <td>2025-07-24</td>\n",
       "      <td>54000</td>\n",
       "      <td>1238</td>\n",
       "      <td>07-24</td>\n",
       "    </tr>\n",
       "    <tr>\n",
       "      <th>5</th>\n",
       "      <td>2025-07-28</td>\n",
       "      <td>20000</td>\n",
       "      <td>1238</td>\n",
       "      <td>07-28</td>\n",
       "    </tr>\n",
       "    <tr>\n",
       "      <th>6</th>\n",
       "      <td>2025-07-31</td>\n",
       "      <td>30000</td>\n",
       "      <td>1215</td>\n",
       "      <td>07-31</td>\n",
       "    </tr>\n",
       "    <tr>\n",
       "      <th>7</th>\n",
       "      <td>2025-08-07</td>\n",
       "      <td>13000</td>\n",
       "      <td>992</td>\n",
       "      <td>08-07</td>\n",
       "    </tr>\n",
       "    <tr>\n",
       "      <th>8</th>\n",
       "      <td>2025-08-08</td>\n",
       "      <td>80000</td>\n",
       "      <td>992</td>\n",
       "      <td>08-08</td>\n",
       "    </tr>\n",
       "    <tr>\n",
       "      <th>9</th>\n",
       "      <td>2025-08-14</td>\n",
       "      <td>49000</td>\n",
       "      <td>966</td>\n",
       "      <td>08-14</td>\n",
       "    </tr>\n",
       "    <tr>\n",
       "      <th>10</th>\n",
       "      <td>2025-08-20</td>\n",
       "      <td>49000</td>\n",
       "      <td>884</td>\n",
       "      <td>08-20</td>\n",
       "    </tr>\n",
       "    <tr>\n",
       "      <th>11</th>\n",
       "      <td>2025-08-25</td>\n",
       "      <td>67000</td>\n",
       "      <td>834</td>\n",
       "      <td>08-25</td>\n",
       "    </tr>\n",
       "    <tr>\n",
       "      <th>12</th>\n",
       "      <td>2025-08-26</td>\n",
       "      <td>110000</td>\n",
       "      <td>834</td>\n",
       "      <td>08-26</td>\n",
       "    </tr>\n",
       "  </tbody>\n",
       "</table>\n",
       "</div>"
      ],
      "text/plain": [
       "   Exercise Date  Exercised Units  Exercise Price(JPY/Share) Date Label\n",
       "0     2025-07-02            50000                       1572      07-02\n",
       "1     2025-07-04            31000                       1572      07-04\n",
       "2     2025-07-10            90000                       1551      07-10\n",
       "3     2025-07-12            90000                       1551      07-12\n",
       "4     2025-07-24            54000                       1238      07-24\n",
       "5     2025-07-28            20000                       1238      07-28\n",
       "6     2025-07-31            30000                       1215      07-31\n",
       "7     2025-08-07            13000                        992      08-07\n",
       "8     2025-08-08            80000                        992      08-08\n",
       "9     2025-08-14            49000                        966      08-14\n",
       "10    2025-08-20            49000                        884      08-20\n",
       "11    2025-08-25            67000                        834      08-25\n",
       "12    2025-08-26           110000                        834      08-26"
      ]
     },
     "metadata": {},
     "output_type": "display_data"
    }
   ],
   "source": [
    "import pandas as pd\n",
    "import matplotlib.pyplot as plt\n",
    "\n",
    "data = {\n",
    "    'Exercise Date': [\n",
    "        '2025-07-02', '2025-07-04', '2025-07-10', '2025-07-12', \n",
    "        '2025-07-24', '2025-07-28', '2025-07-31','2025-08-07','2025-08-08', '2025-08-14','2025-08-20','2025-08-25','2025-08-26'\n",
    "    ],\n",
    "    'Exercised Units': [50000, 31000, 90000, 90000, 54000, 20000, 30000,13000,80000,49000,49000,67000,110000],\n",
    "    'Exercise Price(JPY/Share)': [1572, 1572, 1551, 1551, 1238, 1238, 1215, 992, 992, 966, 884,834,834]\n",
    "}\n",
    "\n",
    "df = pd.DataFrame(data)\n",
    "df['Exercise Date'] = pd.to_datetime(df['Exercise Date'])\n",
    "df['Date Label'] = df['Exercise Date'].dt.strftime('%m-%d')\n",
    "display(df)\n",
    "\n"
   ]
  },
  {
   "cell_type": "code",
   "execution_count": 10,
   "id": "f891cfde",
   "metadata": {},
   "outputs": [
    {
     "data": {
      "text/plain": [
       "<Axes: xlabel='Date Label', ylabel='Exercise Price(JPY/Share)'>"
      ]
     },
     "execution_count": 10,
     "metadata": {},
     "output_type": "execute_result"
    },
    {
     "data": {
      "image/png": "[encoded data removed]",
      "text/plain": [
       "<Figure size 1600x800 with 2 Axes>"
      ]
     },
     "metadata": {},
     "output_type": "display_data"
    }
   ],
   "source": [
    "import seaborn as sns\n",
    "\n",
    "fig, ax1 = plt.subplots(figsize=(16, 8))\n",
    "sns.barplot(data=df, x='Date Label', y='Exercised Units', \n",
    "            ax=ax1, color='steelblue', alpha=0.7)\n",
    "\n",
    "ax2 = ax1.twinx()\n",
    "sns.lineplot(data=df, x='Date Label', y='Exercise Price(JPY/Share)', \n",
    "            ax=ax2, color='red', marker='o', linewidth=2.5, markersize=8)"
   ]
  },
  {
   "cell_type": "markdown",
   "id": "8cb5a1ad",
   "metadata": {},
   "source": [
    "Number of Unexercised Stock Acquisition Rights as of Present: 360,000 rights.<br />\n",
    "机构趁低价加速行权, 并宣布今天后[暂停行权](https://contents.xj-storage.jp/xcontents/33500/40a451d4/3d49/4b2c/b3c4/c970e2cee09a/140120250826547756.pdf)，展开[对冲策略](https://contents.xj-storage.jp/xcontents/33500/524fc40b/7742/4194/a87d/7b97e9e1dcaa/140120250826547752.pdf)。<br />\n"
   ]
  }
 ],
 "metadata": {
  "kernelspec": {
   "display_name": "Python 3",
   "language": "python",
   "name": "python3"
  },
  "language_info": {
   "codemirror_mode": {
    "name": "ipython",
    "version": 3
   },
   "file_extension": ".py",
   "mimetype": "text/x-python",
   "name": "python",
   "nbconvert_exporter": "python",
   "pygments_lexer": "ipython3",
   "version": "3.12.0"
  }
 },
 "nbformat": 4,
 "nbformat_minor": 5
}
