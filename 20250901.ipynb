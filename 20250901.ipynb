{
 "cells": [
  {
   "cell_type": "markdown",
   "id": "074b71ec",
   "metadata": {},
   "source": [
    "# Position Sizing"
   ]
  },
  {
   "cell_type": "markdown",
   "id": "21bc18b0",
   "metadata": {},
   "source": [
    "Suppose there are X yens for me to do trading. The maximum loss I can take is 10% of the amount.<br />\n",
    "If I plan to buy MetaPlanet(3350.T), and the average price is 880 yen. As the 20th Series of Stock Acquisition Rights has shown, the minimum exercising price is 777 yen. I adopt their strategy and calculate the maximum of loss per share.<br />\n",
    "\n",
    "Therefore, the position sizing is:"
   ]
  },
  {
   "cell_type": "code",
   "execution_count": 4,
   "id": "ad007f16",
   "metadata": {},
   "outputs": [
    {
     "data": {
      "text/plain": [
       "6481.481481481482"
      ]
     },
     "metadata": {},
     "output_type": "display_data"
    }
   ],
   "source": [
    "def position_sizing(x):\n",
    "    return 0.1 * x / (885-777)\n",
    "\n",
    "# suppose the amount is 7000000 yen\n",
    "display(position_sizing(7000000))"
   ]
  },
  {
   "cell_type": "markdown",
   "id": "0ee4bf3c",
   "metadata": {},
   "source": [
    "This (about 6481) is the number of shares I can buy.<br />\n",
    "And I have to accept the loss if the share price becomes lower than 777."
   ]
  },
  {
   "cell_type": "markdown",
   "id": "f4df1348",
   "metadata": {},
   "source": [
    "总结：由此可以计算出仓位大小、让自己的损益在可控范围内。<br />\n",
    "但按照近期股市走势来看， 虽然已经屯了2万的BTC了，但股价没有什么值得提振的点……原本靠机构行权融资还能保住股东利益，暂时不看好涨。<br />"
   ]
  }
 ],
 "metadata": {
  "kernelspec": {
   "display_name": "Python 3",
   "language": "python",
   "name": "python3"
  },
  "language_info": {
   "codemirror_mode": {
    "name": "ipython",
    "version": 3
   },
   "file_extension": ".py",
   "mimetype": "text/x-python",
   "name": "python",
   "nbconvert_exporter": "python",
   "pygments_lexer": "ipython3",
   "version": "3.12.0"
  }
 },
 "nbformat": 4,
 "nbformat_minor": 5
}
